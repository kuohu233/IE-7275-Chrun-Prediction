{
 "cells": [
  {
   "cell_type": "markdown",
   "id": "7b8b89c9",
   "metadata": {
    "id": "7b8b89c9"
   },
   "source": [
    "# Churn rate prediction for a telecommunication provider\n",
    "Milestone: Model Completion\n",
    "\n",
    "Luwei Wang\n",
    "\n",
    "Youyu Zhang"
   ]
  },
  {
   "cell_type": "code",
   "execution_count": null,
   "id": "4bc3d4ef",
   "metadata": {
    "id": "4bc3d4ef"
   },
   "outputs": [],
   "source": [
    "# Import common used Python packages\n",
    "import pandas as pd\n",
    "import numpy as np\n",
    "import matplotlib.pyplot as plt\n",
    "import warnings\n",
    "import seaborn as sns\n",
    "warnings.filterwarnings('ignore')"
   ]
  },
  {
   "cell_type": "code",
   "execution_count": null,
   "id": "d6cb93d0",
   "metadata": {
    "colab": {
     "base_uri": "https://localhost:8080/",
     "height": 135,
     "resources": {
      "http://localhost:8080/nbextensions/google.colab/files.js": {
       "data": "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",
       "headers": [
        [
         "content-type",
         "application/javascript"
        ]
       ],
       "ok": true,
       "status": 200,
       "status_text": ""
      }
     }
    },
    "id": "d6cb93d0",
    "outputId": "b94f10ee-4c48-477b-b8a8-3f94278837d3"
   },
   "outputs": [],
   "source": [
    "# Import dataset \n",
    "churn_df = pd.read_csv('train.csv')     # Read dataset \n",
    "test = pd.read_csv('test.csv')"
   ]
  },
  {
   "cell_type": "code",
   "execution_count": null,
   "id": "681db881",
   "metadata": {
    "colab": {
     "base_uri": "https://localhost:8080/",
     "height": 270
    },
    "id": "681db881",
    "outputId": "81a7e1d3-b7bd-4efc-dde9-2e2981236f53"
   },
   "outputs": [],
   "source": [
    "churn_df.head()"
   ]
  },
  {
   "cell_type": "code",
   "execution_count": null,
   "id": "02cde73a",
   "metadata": {
    "colab": {
     "base_uri": "https://localhost:8080/",
     "height": 364
    },
    "id": "02cde73a",
    "outputId": "287df82d-75c6-4685-f295-9d4565b35173"
   },
   "outputs": [],
   "source": [
    "churn_df.describe()"
   ]
  },
  {
   "cell_type": "code",
   "execution_count": null,
   "id": "348ce49a",
   "metadata": {
    "colab": {
     "base_uri": "https://localhost:8080/"
    },
    "id": "348ce49a",
    "outputId": "32d00797-a8c5-4f61-f4d9-d7159b9d1d8c"
   },
   "outputs": [],
   "source": [
    "# Check the shape of dataset\n",
    "churn_df.shape"
   ]
  },
  {
   "cell_type": "code",
   "execution_count": null,
   "id": "cffe43cd",
   "metadata": {
    "colab": {
     "base_uri": "https://localhost:8080/"
    },
    "id": "cffe43cd",
    "outputId": "936a0b67-3c6d-4366-e969-2bec410bcc3b"
   },
   "outputs": [],
   "source": [
    "# Check the basic information of the dataset \n",
    "churn_df.info()"
   ]
  },
  {
   "cell_type": "code",
   "execution_count": null,
   "id": "3ab0e05d",
   "metadata": {
    "colab": {
     "base_uri": "https://localhost:8080/"
    },
    "id": "3ab0e05d",
    "outputId": "e0a47b7a-415f-4675-d67d-6b450df8e30c"
   },
   "outputs": [],
   "source": [
    "col_name = churn_df.columns.tolist()\n",
    "print(col_name)"
   ]
  },
  {
   "cell_type": "code",
   "execution_count": null,
   "id": "af4bedfe",
   "metadata": {
    "colab": {
     "base_uri": "https://localhost:8080/"
    },
    "id": "af4bedfe",
    "outputId": "52bef02a-6027-441f-92f3-f9be37e6709f"
   },
   "outputs": [],
   "source": [
    "churn_df.isnull().sum()   \n",
    "# No NA values in the dataframe\n",
    "\n",
    "# sns.heatmap(churn_df.isnull())"
   ]
  },
  {
   "cell_type": "code",
   "execution_count": null,
   "id": "7b9b5adc",
   "metadata": {
    "colab": {
     "base_uri": "https://localhost:8080/"
    },
    "id": "7b9b5adc",
    "outputId": "f9582ce2-1278-4b07-a9bb-013b39079241"
   },
   "outputs": [],
   "source": [
    "churn_df.area_code.unique()\n",
    "# Only 3 area_code observed."
   ]
  },
  {
   "cell_type": "code",
   "execution_count": null,
   "id": "8f6a6c0a",
   "metadata": {
    "colab": {
     "base_uri": "https://localhost:8080/"
    },
    "id": "8f6a6c0a",
    "outputId": "b80af078-eebe-4063-a491-052f86cf6fa5"
   },
   "outputs": [],
   "source": [
    "print('Maximum account length is: ', churn_df.account_length.max())\n",
    "print('Unique account length total number is :', len(churn_df.account_length.unique()))\n",
    "#np.sort(churn_df.account_length.unique())\n"
   ]
  },
  {
   "cell_type": "code",
   "execution_count": null,
   "id": "876d3877",
   "metadata": {
    "colab": {
     "base_uri": "https://localhost:8080/"
    },
    "id": "876d3877",
    "outputId": "d1865c56-15bd-44d5-9a84-d786e0a4dc5d"
   },
   "outputs": [],
   "source": [
    "churn_yes = churn_df.loc[churn_df.churn == 'yes',].shape[0]\n",
    "churn_no = churn_df.loc[churn_df.churn == 'no',].shape[0]\n",
    "print('Total churn cases number is :', churn_yes , '. It takes proportion of ', round(churn_yes/churn_df.shape[0]*100),'%.')"
   ]
  },
  {
   "cell_type": "markdown",
   "id": "d42d7287",
   "metadata": {
    "id": "d42d7287"
   },
   "source": [
    "From the information above, we can see that:\n",
    "1. This dataset consist of 20 columns. \n",
    "2. No Null values observed.\n",
    "\n",
    "### Data Cleaning"
   ]
  },
  {
   "cell_type": "code",
   "execution_count": null,
   "id": "1c8bce8a",
   "metadata": {
    "colab": {
     "base_uri": "https://localhost:8080/",
     "height": 270
    },
    "id": "1c8bce8a",
    "outputId": "3cbea767-aae5-455e-e70b-e2fdcb7e43a1"
   },
   "outputs": [],
   "source": [
    "# Adjust format for variable: area_code\n",
    "for i in range(len(churn_df)):\n",
    "    churn_df['area_code'][i] =  int(churn_df['area_code'][i][-3:])\n",
    "\n",
    "churn_df.head(5)"
   ]
  },
  {
   "cell_type": "code",
   "execution_count": null,
   "id": "eb27799f",
   "metadata": {
    "colab": {
     "base_uri": "https://localhost:8080/",
     "height": 270
    },
    "id": "eb27799f",
    "outputId": "1dc40d1c-4b07-4c20-ff8d-beb3d7772f7a"
   },
   "outputs": [],
   "source": [
    "'''\n",
    "churn_df['result'] = 0\n",
    "churn_df.loc[churn_df.churn == 'yes', 'result'] = 1\n",
    "\n",
    "churn_df = churn_df.drop(['churn'], axis = 1)\n",
    "churn_df.rename(columns={\"result\": \"churn\"})\n",
    "'''\n",
    "\n",
    "churn_df.churn = pd.Series(np.where(churn_df.churn.values == 'yes', 1, 0),\n",
    "          churn_df.index)\n",
    "churn_df.international_plan = pd.Series(np.where(churn_df.international_plan.values == 'yes', 1, 0),\n",
    "          churn_df.index)\n",
    "churn_df.voice_mail_plan = pd.Series(np.where(churn_df.voice_mail_plan.values == 'yes', 1, 0),\n",
    "          churn_df.index)\n",
    "churn_df = churn_df.drop(columns = ['state'])\n",
    "churn_df.head()"
   ]
  },
  {
   "cell_type": "markdown",
   "id": "badb20aa",
   "metadata": {
    "id": "badb20aa"
   },
   "source": [
    "### Plot and Graphs"
   ]
  },
  {
   "cell_type": "code",
   "execution_count": null,
   "id": "2b6fd77e",
   "metadata": {
    "colab": {
     "base_uri": "https://localhost:8080/"
    },
    "id": "2b6fd77e",
    "outputId": "c5eda411-61fc-4da7-a22a-ab0f59dd7263"
   },
   "outputs": [],
   "source": [
    "churn_df['churn'].value_counts().plot(kind = 'bar')\n",
    "plt.title(\"Churn Cases\")\n",
    "plt.ylabel(\"Number of Cases\")\n"
   ]
  },
  {
   "cell_type": "code",
   "execution_count": null,
   "id": "4b2e661a",
   "metadata": {
    "colab": {
     "base_uri": "https://localhost:8080/"
    },
    "id": "4b2e661a",
    "outputId": "13a56f81-5cae-4537-b9c6-cdde21bedf7b"
   },
   "outputs": [],
   "source": [
    "fig, ax=plt.subplots(figsize=(15,5))\n",
    "sns.countplot(data = churn_df, x='churn', order=churn_df['churn'].value_counts().index, hue='churn')\n",
    "plt.xticks(rotation=45)\n",
    "plt.xlabel('State')\n",
    "plt.ylabel('Customer Number')\n",
    "plt.title('Customer Churn Conditions by States')\n",
    "plt.show()"
   ]
  },
  {
   "cell_type": "code",
   "execution_count": null,
   "id": "cacde3de",
   "metadata": {
    "colab": {
     "base_uri": "https://localhost:8080/"
    },
    "id": "cacde3de",
    "outputId": "2839ba1f-f609-4cf3-d05b-bc3159ea3b64"
   },
   "outputs": [],
   "source": [
    "fig2, ax=plt.subplots(figsize=(10,5))\n",
    "sns.countplot(data = churn_df, x='area_code', order=churn_df['area_code'].value_counts().index, hue='churn')\n",
    "plt.xlabel('Area Code')\n",
    "plt.ylabel('Customers')\n",
    "plt.title('Churn Conditions by Area Code')\n",
    "plt.show()"
   ]
  },
  {
   "cell_type": "code",
   "execution_count": null,
   "id": "f853220c",
   "metadata": {
    "colab": {
     "base_uri": "https://localhost:8080/"
    },
    "id": "f853220c",
    "outputId": "63c58e40-bf7c-4765-8a72-634f87fcb85e"
   },
   "outputs": [],
   "source": [
    "churn_df['number_customer_service_calls'].value_counts().plot(kind = 'bar')\n",
    "plt.title(\"Statistics of service calls\")\n",
    "plt.ylabel(\"number\")"
   ]
  },
  {
   "cell_type": "code",
   "execution_count": null,
   "id": "bcc20864",
   "metadata": {
    "colab": {
     "base_uri": "https://localhost:8080/"
    },
    "id": "bcc20864",
    "outputId": "f28c280d-3078-4ca7-ee1e-da696378b87c"
   },
   "outputs": [],
   "source": [
    "plan_yes = churn_df['churn'][churn_df['international_plan'] == 1].value_counts()\n",
    "plan_no = churn_df['churn'][churn_df['international_plan'] == 0].value_counts()\n",
    "plan_df = pd.DataFrame({'international plan':plan_yes, 'no international plan':plan_no})\n",
    "\n",
    "#plan_df.plot(kind = 'bar', stacked = True)\n",
    "fig3, ax= plt.subplots(figsize=(5,5))\n",
    "types = ['No','Yes']\n",
    "ax.bar(types, plan_yes, 0.4, label = 'Internation Plan')  # 0.4 is the width of the bar\n",
    "ax.bar(types, plan_no , 0.4, bottom = plan_yes, label = 'No International Plan')\n",
    "ax.set_title(\"Stat between international plan and churn\")\n",
    "ax.set_xlabel(\"Churn\")\n",
    "ax.set_ylabel(\"Number\")\n",
    "ax.legend()\n",
    "plt.show()\n"
   ]
  },
  {
   "cell_type": "code",
   "execution_count": null,
   "id": "a66ec475",
   "metadata": {
    "colab": {
     "base_uri": "https://localhost:8080/"
    },
    "id": "a66ec475",
    "outputId": "bf20fbff-6663-4ea2-c35e-681b86818b41"
   },
   "outputs": [],
   "source": [
    "call_0 = churn_df['number_customer_service_calls'][churn_df['churn'] == 0].value_counts()\n",
    "call_1 = churn_df['number_customer_service_calls'][churn_df['churn'] == 1].value_counts()\n",
    "service_df = pd.DataFrame({'churn':call_1, 'no churn':call_0})\n",
    "service_df.plot(kind = 'bar', stacked = True)\n",
    "plt.title(\"Stat between customer service calls and churn\")\n",
    "plt.xlabel(\"The number of service calls\")\n",
    "plt.ylabel(\"number\")"
   ]
  },
  {
   "cell_type": "code",
   "execution_count": null,
   "id": "d179c9f8",
   "metadata": {
    "colab": {
     "base_uri": "https://localhost:8080/"
    },
    "id": "d179c9f8",
    "outputId": "57556af8-01d4-4ecf-924c-491a36e82214"
   },
   "outputs": [],
   "source": [
    "var_numbers = [feature for feature in churn_df.columns if churn_df[feature].dtypes != 'O']\n",
    "\n",
    "for feature in var_numbers:\n",
    "    sns.distplot(churn_df[feature])\n",
    "    plt.xlabel(str(feature))\n",
    "    plt.ylabel('Distribution')\n",
    "    plt.show()\n",
    "\n",
    "# Most number features looks like normal distribution"
   ]
  },
  {
   "cell_type": "code",
   "execution_count": null,
   "id": "764c8c85",
   "metadata": {
    "colab": {
     "base_uri": "https://localhost:8080/"
    },
    "id": "764c8c85",
    "outputId": "3dee885b-2f4f-4082-cd2c-1e1e52c2953f"
   },
   "outputs": [],
   "source": [
    "sns.FacetGrid(churn_df, hue='churn',size = 6.5).map(sns.distplot, 'total_day_minutes').add_legend()\n",
    "plt.title('Churn and total day minutes')\n",
    "plt.show()"
   ]
  },
  {
   "cell_type": "code",
   "execution_count": null,
   "id": "b0ffed70",
   "metadata": {},
   "outputs": [],
   "source": [
    "churn30 = churn_df.loc[churn_df['total_day_charge']>44]\n",
    "\n",
    "churn30['churn'].value_counts().plot(kind = 'bar')\n",
    "plt.title(\"Churn Cases for total_day_charge > 44\")\n",
    "plt.ylabel(\"Number of Cases\")\n",
    "\n",
    "#churn_df.total_day_charge"
   ]
  },
  {
   "cell_type": "markdown",
   "id": "9626e68d",
   "metadata": {
    "id": "9626e68d"
   },
   "source": [
    "## Correlation Check\n",
    "The graph below indicates that **total day charge** and **total day minutes** are 100% positive correlated. Same as **total eve minutes** and **total eve charge**, **total night minutes** and **total night charge**, **total intl minutes** and **total intl charge**. This means the charges are linear relative to minutes of calls, which match the common telecommunication service business model. \n",
    "\n",
    "Also, multicollinearity exists, and it can lead to inaccurate prediction later. Decision tree and boosted trees can avoid this inaccuracy. Logistic regression and linear regression will lead to skewed results. "
   ]
  },
  {
   "cell_type": "code",
   "execution_count": null,
   "id": "667d9c20",
   "metadata": {
    "colab": {
     "base_uri": "https://localhost:8080/",
     "height": 3659
    },
    "id": "667d9c20",
    "outputId": "518051c5-51de-4f78-8642-8f91c16e9a8d"
   },
   "outputs": [],
   "source": [
    "corr = churn_df.corr()\n",
    "sns.heatmap(corr, xticklabels=corr.columns, yticklabels=corr.columns, vmin=-1, vmax=1)\n",
    "print(corr)"
   ]
  },
  {
   "cell_type": "code",
   "execution_count": null,
   "id": "2fde4699",
   "metadata": {
    "colab": {
     "base_uri": "https://localhost:8080/"
    },
    "id": "2fde4699",
    "outputId": "d5e86dec-bebf-44cf-9bae-b19938d07eb4"
   },
   "outputs": [],
   "source": [
    "corr.columns"
   ]
  },
  {
   "cell_type": "markdown",
   "id": "ddc38bd3",
   "metadata": {
    "id": "ddc38bd3"
   },
   "source": [
    "One of the methods to solve multicollinearity is PCA. Currently we set the explained variance ratio to 90% (0.9)"
   ]
  },
  {
   "cell_type": "code",
   "execution_count": null,
   "id": "f64f2c16",
   "metadata": {
    "colab": {
     "base_uri": "https://localhost:8080/",
     "height": 144
    },
    "id": "f64f2c16",
    "outputId": "b498f5c8-f5a3-48e9-fc17-d0fa9904154f"
   },
   "outputs": [],
   "source": [
    "from sklearn.decomposition import PCA\n",
    "from sklearn.preprocessing import scale, normalize, StandardScaler\n",
    "\n",
    "# Un-standardized PCA\n",
    "pcs = PCA(n_components = 0.9)  #Expect explain 90% of variance\n",
    "pcs.fit(churn_df[corr.columns])\n",
    "pcsSummary_df = pd.DataFrame({'Standard deviation': np.sqrt(pcs.explained_variance_),\n",
    "                           'Proportion of variance': pcs.explained_variance_ratio_,\n",
    "                           'Cumulative proportion': np.cumsum(pcs.explained_variance_ratio_)})\n",
    "pcsSummary_df= pcsSummary_df.transpose()\n",
    "pcsSummary_df.columns = ['PC{}'.format(i) for i in range(1, len(pcsSummary_df.columns) + 1)]\n",
    "pcsSummary_df.round(4)"
   ]
  },
  {
   "cell_type": "code",
   "execution_count": null,
   "id": "4c6386c1",
   "metadata": {
    "colab": {
     "base_uri": "https://localhost:8080/",
     "height": 613
    },
    "id": "4c6386c1",
    "outputId": "6af579af-e583-41f1-b337-36588fb4b9b9"
   },
   "outputs": [],
   "source": [
    "pcsComponents_df = pd.DataFrame(pcs.components_.transpose(), columns=pcsSummary_df.columns, \n",
    "                                index=corr.columns)\n",
    "pcsComponents_df   "
   ]
  },
  {
   "cell_type": "code",
   "execution_count": null,
   "id": "5702272e",
   "metadata": {
    "colab": {
     "base_uri": "https://localhost:8080/",
     "height": 144
    },
    "id": "5702272e",
    "outputId": "ad019783-00d9-446d-9bbd-27c4ed17a2b4"
   },
   "outputs": [],
   "source": [
    "# Standardized PCA\n",
    "norm = StandardScaler()\n",
    "norm.fit(churn_df[corr.columns])\n",
    "pcastan = PCA(n_components = 0.9)\n",
    "pcastan.fit(norm.transform(churn_df[corr.columns]))\n",
    "\n",
    "pcaSummary_df = pd.DataFrame({'Standard deviation': np.sqrt(pcastan.explained_variance_),\n",
    "                           'Proportion of variance': pcastan.explained_variance_ratio_,\n",
    "                           'Cumulative proportion': np.cumsum(pcastan.explained_variance_ratio_)})\n",
    "pcaSummary_df= pcaSummary_df.transpose()\n",
    "pcaSummary_df.columns = ['PC{}'.format(i) for i in range(1, len(pcaSummary_df.columns) + 1)]\n",
    "pcaSummary_df.round(4)"
   ]
  },
  {
   "cell_type": "code",
   "execution_count": null,
   "id": "c424f0b2",
   "metadata": {
    "colab": {
     "base_uri": "https://localhost:8080/",
     "height": 613
    },
    "id": "c424f0b2",
    "outputId": "6bd352a7-9609-4c4c-a4f7-3db2f5d89fa2"
   },
   "outputs": [],
   "source": [
    "pcaComponents_df = pd.DataFrame(pcastan.components_.transpose(), columns=pcaSummary_df.columns, \n",
    "                                index=corr.columns)\n",
    "pcaComponents_df   "
   ]
  },
  {
   "cell_type": "markdown",
   "id": "61d9bc4a",
   "metadata": {
    "id": "61d9bc4a"
   },
   "source": [
    "### Feature Selection with VIF (Variance Inflation Factor) Check\n",
    "This process will determine if multicollinearity exists and remove the redundent features. \n",
    "\n",
    "The criterion is VIF > 0.8. That means we will drop one of the variables from variable pairs with VIF > 0.8. "
   ]
  },
  {
   "cell_type": "code",
   "execution_count": null,
   "id": "aa949359",
   "metadata": {
    "colab": {
     "base_uri": "https://localhost:8080/"
    },
    "id": "aa949359",
    "outputId": "a813d02d-6fa1-4ef2-9dc6-44a3c679ff6d"
   },
   "outputs": [],
   "source": [
    "from sklearn.metrics import r2_score\n",
    "\n",
    "vif = pd.DataFrame(columns = ['var1', 'var2', 'R2'])\n",
    "for i in range(len(corr.columns)):\n",
    "    for j in range(len(corr.columns)):\n",
    "        if i != j:\n",
    "            r2value = r2_score(churn_df[corr.columns[i]],churn_df[corr.columns[j]])\n",
    "            vifvalue = 1/(1-r2value)\n",
    "            if vifvalue >= 0.8:\n",
    "                vif = vif.append({'var1' : corr.columns[i], 'var2' : corr.columns[j], 'R2' : vifvalue}, \n",
    "                ignore_index = True)\n",
    "\n",
    "vif"
   ]
  },
  {
   "cell_type": "code",
   "execution_count": null,
   "id": "a93d1af1",
   "metadata": {
    "colab": {
     "base_uri": "https://localhost:8080/"
    },
    "id": "a93d1af1",
    "outputId": "55932057-39a9-4061-8fb9-532493b2c75d"
   },
   "outputs": [],
   "source": [
    "#Delete features listed in vif.var1\n",
    "df = churn_df\n",
    "df = df.drop(vif.var1.unique(),axis = 1)\n",
    "\n",
    "df"
   ]
  },
  {
   "cell_type": "markdown",
   "id": "c5940c6b",
   "metadata": {
    "id": "c5940c6b"
   },
   "source": [
    "### Decision Tree\n"
   ]
  },
  {
   "cell_type": "code",
   "execution_count": null,
   "id": "3Zd24omX2412",
   "metadata": {
    "colab": {
     "base_uri": "https://localhost:8080/"
    },
    "id": "3Zd24omX2412",
    "outputId": "365676f2-bd93-4d8d-8531-a319fcd32c49"
   },
   "outputs": [],
   "source": [
    "from sklearn.tree import DecisionTreeClassifier\n",
    "from sklearn.model_selection import train_test_split\n",
    "from sklearn.model_selection import cross_val_score\n",
    "\n",
    "# Split dataset into train and test\n",
    "df2 = df.drop(['churn'], axis = 1)\n",
    "Xtrain, Xtest, Ytrain, Ytest = train_test_split(df2,df.churn,test_size=0.2)\n",
    "\n",
    "# Add model and predict\n",
    "score = []\n",
    "acc = []\n",
    "cross = []\n",
    "for i in range(20):\n",
    "    decision_tree = DecisionTreeClassifier(random_state=0, criterion='gini', max_depth=i+1)\n",
    "    decision_tree.fit(Xtrain, Ytrain)\n",
    "    Y_pred = decision_tree.predict(Xtest)\n",
    "    \n",
    "    acc_decision_tree = round(decision_tree.score(Xtest,Y_pred,)*100, 2)\n",
    "    acc.append(acc_decision_tree)\n",
    "\n",
    "    result = pd.DataFrame()\n",
    "    result['Test'] = Ytest\n",
    "    result['Prediction'] = Y_pred\n",
    "    result['correct'] = pd.Series(np.where(result.Test.values == result.Prediction.values, 1, 0),\n",
    "            result.index)\n",
    "    modelscore = round(result.correct.sum()/result.shape[0],2)\n",
    "    score.append(modelscore)\n",
    "\n",
    "    cross_value = cross_val_score(decision_tree, Xtrain, Ytrain, cv = 5)\n",
    "    cross.append(cross_value)\n",
    "\n",
    "cross_validation = pd.DataFrame(cross)\n",
    "cross_validation['avg'] = cross_validation.mean(axis = 1)\n",
    "\n",
    "print(score)\n",
    "print(cross_validation)\n",
    "\n",
    "# Thus max_depth = 5 would be a better choice.\n"
   ]
  },
  {
   "cell_type": "code",
   "execution_count": null,
   "id": "_yfPFOQ05jMD",
   "metadata": {
    "colab": {
     "base_uri": "https://localhost:8080/",
     "height": 353
    },
    "id": "_yfPFOQ05jMD",
    "outputId": "ff0d4950-3364-4367-ebe6-48c641bbbdc8"
   },
   "outputs": [],
   "source": [
    "rs = np.array(cross_validation['avg'])\n",
    "plt.figure(figsize = (20,5))\n",
    "plt.plot(range(20),rs,'o-',c = 'black', label = 'Decision_tree')\n",
    "x=np.arange(0,20,1)\n",
    "plt.xticks(x)\n",
    "plt.xlabel('Max_depth')\n",
    "plt.ylabel('cross_validation_score')"
   ]
  },
  {
   "cell_type": "markdown",
   "id": "252ca886",
   "metadata": {
    "id": "252ca886"
   },
   "source": [
    "### Use XGBoost Classifier as a Method"
   ]
  },
  {
   "cell_type": "code",
   "execution_count": null,
   "id": "d8b4001d",
   "metadata": {
    "colab": {
     "base_uri": "https://localhost:8080/"
    },
    "id": "d8b4001d",
    "outputId": "dba3b0db-0956-49f6-91a7-e3d4231e6b8d"
   },
   "outputs": [],
   "source": [
    "import xgboost as xgb\n",
    "from sklearn.model_selection import train_test_split\n",
    "from sklearn.model_selection import cross_val_score\n",
    "from sklearn import preprocessing\n",
    "lbl = preprocessing.LabelEncoder()\n",
    "# Split dataset into train and test\n",
    "df2 = churn_df.drop(['churn'], axis = 1)\n",
    "Xtrain, Xtest, Ytrain, Ytest = train_test_split(df2,df.churn,test_size=0.2)\n",
    "Xtest['area_code'] = lbl.fit_transform(Xtest['area_code'].astype(str))\n",
    "Xtrain['area_code'] = lbl.fit_transform(Xtrain['area_code'].astype(str))\n",
    "\n",
    "# Add model and predict\n",
    "score_xgb = []\n",
    "acc = []\n",
    "cross_xgb = []\n",
    "for i in range(20):\n",
    "    xgb_model = xgb.XGBClassifier(eta=0.3, max_depth=i+1, colsample_bytree=0.5, scale_pos_weight=1.1, booster='gbtree', random_state= 42)\n",
    "    xgb_pred = xgb_model.fit(Xtrain._get_numeric_data(), np.ravel(Ytrain, order='C')).predict(Xtest._get_numeric_data())    \n",
    "    \n",
    "    acc_xgb = round(xgb_model.score(Xtest,xgb_pred,)*100, 2)\n",
    "    acc.append(acc_xgb)\n",
    "\n",
    "    result = pd.DataFrame()\n",
    "    result['Test'] = Ytest\n",
    "    result['Prediction'] = xgb_pred\n",
    "    result['correct'] = pd.Series(np.where(result.Test.values == result.Prediction.values, 1, 0),\n",
    "            result.index)\n",
    "    modelscore = round(result.correct.sum()/result.shape[0],2)\n",
    "    score_xgb.append(modelscore)\n",
    "\n",
    "    cross_value = cross_val_score(xgb_model, Xtrain, Ytrain, cv = 5)\n",
    "    cross_xgb.append(cross_value)\n",
    "\n",
    "cross_validation_xgb = pd.DataFrame(cross_xgb)\n",
    "cross_validation_xgb['avg'] = cross_validation_xgb.mean(axis = 1)\n",
    "\n",
    "print(score_xgb)\n",
    "print(cross_validation_xgb)\n",
    "# Thus max_depth = 4 would be a better choice.\n",
    "# Adjusting eta doesn't make big difference."
   ]
  },
  {
   "cell_type": "code",
   "execution_count": null,
   "id": "kifl0Tjm-0Ff",
   "metadata": {
    "colab": {
     "base_uri": "https://localhost:8080/",
     "height": 356
    },
    "id": "kifl0Tjm-0Ff",
    "outputId": "76de56e0-d8ba-4432-de1f-50670c315eb7"
   },
   "outputs": [],
   "source": [
    "rs = np.array(cross_validation_xgb['avg'])\n",
    "plt.figure(figsize = (20,5))\n",
    "plt.plot(range(20),rs,'o-',c = 'black', label = 'XGBoost')\n",
    "x=np.arange(0,20,1)\n",
    "plt.xticks(x)\n",
    "plt.xlabel('n_estimators')\n",
    "plt.ylabel('cross_validation_score_xgb')"
   ]
  },
  {
   "cell_type": "markdown",
   "id": "4deda538",
   "metadata": {},
   "source": [
    "### Neuron Network Trial"
   ]
  },
  {
   "cell_type": "code",
   "execution_count": null,
   "id": "49ced7c3",
   "metadata": {},
   "outputs": [],
   "source": [
    "from sklearn.neural_network import MLPClassifier\n",
    "\n",
    "# Add model and predict\n",
    "score_mlp = []\n",
    "acc_mlp = []\n",
    "cross_mlp = []\n",
    "for i in range(5):\n",
    "        mlp = MLPClassifier(hidden_layer_sizes=(2,2,2,3,i+1), activation='identity', solver='lbfgs', random_state=42)\n",
    "        mlp.fit(Xtrain, Ytrain)\n",
    "        Y_pred = mlp.predict(Xtest)\n",
    "\n",
    "        acc = round(mlp.score(Xtest,Y_pred,)*100, 2)\n",
    "        acc_mlp.append(acc)\n",
    "\n",
    "        result = pd.DataFrame()\n",
    "        result['Test'] = Ytest\n",
    "        result['Prediction'] = Y_pred\n",
    "        result['correct'] = pd.Series(np.where(result.Test.values == result.Prediction.values, 1, 0),\n",
    "                result.index)\n",
    "        modelscore = round(result.correct.sum()/result.shape[0],2)\n",
    "        score_mlp.append(modelscore)\n",
    "\n",
    "        cross_value = cross_val_score(mlp, Xtrain, Ytrain, cv = 5)\n",
    "        cross_mlp.append(cross_value)\n",
    "\n",
    "cross_validation_mlp = pd.DataFrame(cross_mlp)\n",
    "cross_validation_mlp['avg'] = cross_validation_mlp.mean(axis = 1)\n",
    "\n",
    "print(score_mlp)\n",
    "print(cross_validation_mlp)\n"
   ]
  },
  {
   "cell_type": "code",
   "execution_count": null,
   "id": "501d76cd",
   "metadata": {},
   "outputs": [],
   "source": [
    "from sklearn.neighbors import KNeighborsClassifier\n",
    "\n",
    "score_knn = []\n",
    "acc_knn = []\n",
    "cross_knn = []\n",
    "\n",
    "for i in range(10):\n",
    "        neigh = KNeighborsClassifier(n_neighbors=i+1)\n",
    "        neigh.fit(Xtrain, Ytrain)\n",
    "        Y_pred = neigh.predict(Xtest)\n",
    "\n",
    "        result = pd.DataFrame()\n",
    "        result['Test'] = Ytest\n",
    "        result['Prediction'] = Y_pred\n",
    "        result['correct'] = pd.Series(np.where(result.Test.values == result.Prediction.values, 1, 0),\n",
    "                result.index)\n",
    "        modelscore = round(result.correct.sum()/result.shape[0],2)\n",
    "        score_knn.append(modelscore)\n",
    "\n",
    "        cross_value = cross_val_score(neigh, Xtrain, Ytrain, cv = 5)\n",
    "        cross_knn.append(cross_value)\n",
    "\n",
    "cross_validation_knn = pd.DataFrame(cross_knn)\n",
    "cross_validation_knn['avg'] = cross_validation_knn.mean(axis = 1)\n",
    "\n",
    "print(score_knn)\n",
    "print(cross_validation_knn)"
   ]
  },
  {
   "cell_type": "markdown",
   "id": "292c782b",
   "metadata": {
    "id": "292c782b"
   },
   "source": [
    "#### Prediction\n",
    "Use the models to predict the test.csv, then upload to Kaggle for test. "
   ]
  },
  {
   "cell_type": "code",
   "execution_count": null,
   "id": "465ecea1",
   "metadata": {
    "colab": {
     "base_uri": "https://localhost:8080/"
    },
    "id": "465ecea1",
    "outputId": "709c6987-8d00-48c5-a38b-aa8d5cc9815f"
   },
   "outputs": [],
   "source": [
    "# Adjust format for variable: area_code\n",
    "test.area_code = lbl.fit_transform(test.area_code.astype(str))\n",
    "\n",
    "#test.churn = pd.Series(np.where(test.churn.values == 'yes', 1, 0), test.index)\n",
    "test.international_plan = pd.Series(np.where(test.international_plan.values == 'yes', 1, 0),\n",
    "          test.index)\n",
    "test.voice_mail_plan = pd.Series(np.where(test.voice_mail_plan.values == 'yes', 1, 0),\n",
    "          test.index)\n",
    "id = test['id']\n",
    "tests = test.drop(['id','state',], axis = 1)\n",
    "\n",
    "print(test.shape)\n",
    "print(test.columns)\n",
    "print(Xtrain.shape)\n",
    "print(Xtrain.columns)\n",
    "print(tests.shape)\n"
   ]
  },
  {
   "cell_type": "markdown",
   "id": "2760c4aa",
   "metadata": {
    "id": "2760c4aa"
   },
   "source": [
    "Use Decision Tree for prediction"
   ]
  },
  {
   "cell_type": "code",
   "execution_count": null,
   "id": "78fc3e55",
   "metadata": {
    "id": "78fc3e55"
   },
   "outputs": [],
   "source": [
    "decision_tree = DecisionTreeClassifier(random_state=0, criterion='gini', max_depth=5)\n",
    "decision_tree.fit(Xtrain, Ytrain)\n",
    "Y_test = decision_tree.predict(tests)\n",
    "\n",
    "submit = pd.DataFrame({'id':id, 'churn':Y_test})\n",
    "submit.churn.replace([0,1],['no','yes'], inplace=True)\n",
    "submit.head()\n",
    "submit.to_csv('churn_submit.csv',index=False)"
   ]
  },
  {
   "cell_type": "code",
   "execution_count": null,
   "id": "1a4414ea",
   "metadata": {},
   "outputs": [],
   "source": [
    "from sklearn import tree\n",
    "from matplotlib import pyplot as plt\n",
    "\n",
    "fig = plt.figure(figsize=(30,15))\n",
    "_ = tree.plot_tree(decision_tree, fontsize=8,\n",
    "                   feature_names=Xtrain.columns,  \n",
    "                   class_names='target',\n",
    "                   filled=True)"
   ]
  },
  {
   "cell_type": "markdown",
   "id": "9f55fcbe",
   "metadata": {},
   "source": [
    "Use XGBoost Classifier for prediction\n"
   ]
  },
  {
   "cell_type": "code",
   "execution_count": null,
   "id": "CBRy9imsRMKx",
   "metadata": {
    "id": "CBRy9imsRMKx"
   },
   "outputs": [],
   "source": [
    "xgboost = xgb.XGBClassifier(eta=0.3, max_depth=4, colsample_bytree=0.5, scale_pos_weight=1.1, booster='gbtree', random_state= 42)\n",
    "xgboost.fit(Xtrain, Ytrain)\n",
    "Y_test_xgb = xgboost.predict(tests)\n",
    "\n",
    "submit_xgb = pd.DataFrame({'id':id, 'churn':Y_test_xgb})\n",
    "submit_xgb.churn.replace([0,1],['no','yes'], inplace=True)\n",
    "submit_xgb.to_csv('churn_submitxgboost.csv',index=False)"
   ]
  },
  {
   "cell_type": "code",
   "execution_count": null,
   "id": "6be82070",
   "metadata": {},
   "outputs": [],
   "source": [
    "# plot decision tree\n",
    "import graphviz\n",
    "from numpy import loadtxt\n",
    "from xgboost import plot_tree\n",
    "\n",
    "# plot single tree\n",
    "xgb.plot_tree(xgboost, num_trees=0, rankdir='LR')\n",
    "fig = plt.gcf()\n",
    "fig.set_size_inches(150, 100)"
   ]
  },
  {
   "cell_type": "markdown",
   "id": "d771c694",
   "metadata": {},
   "source": [
    "Use Neuron Network for prediction"
   ]
  },
  {
   "cell_type": "code",
   "execution_count": null,
   "id": "d4783865",
   "metadata": {},
   "outputs": [],
   "source": [
    "mlp = MLPClassifier(hidden_layer_sizes=(2,2,2,3,2), activation='identity', solver='lbfgs', random_state=42)\n",
    "mlp.fit(Xtrain, Ytrain)\n",
    "Y_pred_mlp = mlp.predict(tests)\n",
    "\n",
    "submit_mlp = pd.DataFrame({'id':id, 'churn':Y_pred_mlp})\n",
    "submit_mlp.churn.replace([0,1],['no','yes'], inplace=True)\n",
    "submit_mlp.to_csv('churn_submitmlp.csv',index=False)"
   ]
  },
  {
   "cell_type": "markdown",
   "id": "689fcf25",
   "metadata": {},
   "source": [
    "Use KNN for prediction"
   ]
  },
  {
   "cell_type": "code",
   "execution_count": null,
   "id": "0bbe6ad2",
   "metadata": {},
   "outputs": [],
   "source": [
    "neigh = KNeighborsClassifier(n_neighbors=4)\n",
    "neigh.fit(Xtrain, Ytrain)\n",
    "Y_pred_knn = neigh.predict(tests)\n",
    "\n",
    "submit_knn = pd.DataFrame({'id':id, 'churn':Y_pred_knn})\n",
    "submit_knn.churn.replace([0,1],['no','yes'], inplace=True)\n",
    "submit_knn.to_csv('churn_submitknn.csv',index=False)"
   ]
  },
  {
   "cell_type": "markdown",
   "id": "b57487ab",
   "metadata": {},
   "source": [
    "Timing Calculation"
   ]
  },
  {
   "cell_type": "code",
   "execution_count": null,
   "id": "8d4e7d44",
   "metadata": {},
   "outputs": [],
   "source": [
    "import time\n",
    "results = []\n",
    "max_depth = [1, 2, 3, 4,5,6,7,8,9,10]\n",
    "\n",
    "for n in max_depth:\n",
    "    start = time.time()\n",
    "    decision_tree = DecisionTreeClassifier(random_state=0, criterion='gini', max_depth=n)\n",
    "    decision_tree.fit(Xtrain, Ytrain)\n",
    "    elapsed = time.time() - start\n",
    "    print(n,round(elapsed,3))\n",
    "    results.append(elapsed)\n",
    "results_df=pd.DataFrame(results)\n",
    "results_df.mean()"
   ]
  },
  {
   "cell_type": "code",
   "execution_count": null,
   "id": "2a3a07b2",
   "metadata": {},
   "outputs": [],
   "source": [
    "\n",
    "results = []\n",
    "max_depth = [1, 2, 3, 4,5,6,7,8,9,10]\n",
    "for n in max_depth:\n",
    "    start = time.time()\n",
    "    xgboost = xgb.XGBClassifier(eta=0.3,max_depth=n)\n",
    "    xgboost.fit(Xtrain, Ytrain)\n",
    "    elapsed = time.time() - start\n",
    "    print(n,round(elapsed,3))\n",
    "    results.append(elapsed)\n",
    "results_df=pd.DataFrame(results)\n",
    "results_df.mean()"
   ]
  },
  {
   "cell_type": "code",
   "execution_count": null,
   "id": "d7015ae6",
   "metadata": {},
   "outputs": [],
   "source": [
    "results = []\n",
    "hls = [(5),(5,5),(5,5,5),(5,5,5,5),(5,5,5,5,5),(2),(2,2),(2,2,2),(2,2,2,2),(2,2,2,2,2)]\n",
    "\n",
    "for n in hls:\n",
    "    start = time.time()\n",
    "    mlp = MLPClassifier(hidden_layer_sizes=n, activation='identity', solver='lbfgs', random_state=42)\n",
    "    mlp.fit(Xtrain, Ytrain)\n",
    "    elapsed = time.time() - start\n",
    "    print(n,round(elapsed,3))\n",
    "    results.append(elapsed)\n",
    "results_df=pd.DataFrame(results)\n",
    "results_df.mean()"
   ]
  },
  {
   "cell_type": "code",
   "execution_count": null,
   "id": "09ecb8c5",
   "metadata": {},
   "outputs": [],
   "source": [
    "results = []\n",
    "\n",
    "for n in range(10):\n",
    "    start = time.time()\n",
    "    neigh = KNeighborsClassifier(n_neighbors=i+1)\n",
    "    neigh.fit(Xtrain, Ytrain)\n",
    "    elapsed = time.time() - start\n",
    "    print(n,round(elapsed,3))\n",
    "    results.append(elapsed)\n",
    "results_df=pd.DataFrame(results)\n",
    "results_df.mean()"
   ]
  },
  {
   "cell_type": "code",
   "execution_count": null,
   "id": "09bff228",
   "metadata": {},
   "outputs": [],
   "source": [
    "from dmba import classificationSummary\n",
    "classificationSummary(Ytest, decision_tree.predict(Xtest))"
   ]
  },
  {
   "cell_type": "code",
   "execution_count": null,
   "id": "398cf162",
   "metadata": {},
   "outputs": [],
   "source": [
    "classificationSummary(Ytest, xgb_model.predict(Xtest))"
   ]
  },
  {
   "cell_type": "code",
   "execution_count": null,
   "id": "8f840beb",
   "metadata": {},
   "outputs": [],
   "source": [
    "classificationSummary(Ytest, mlp.predict(Xtest))"
   ]
  },
  {
   "cell_type": "code",
   "execution_count": null,
   "id": "444b6ee7",
   "metadata": {},
   "outputs": [],
   "source": [
    "classificationSummary(Ytest, neigh.predict(Xtest))"
   ]
  }
 ],
 "metadata": {
  "colab": {
   "collapsed_sections": [
    "badb20aa",
    "61d9bc4a"
   ],
   "name": "IE7275Group404Project.ipynb",
   "provenance": []
  },
  "kernelspec": {
   "display_name": "Python 3 (ipykernel)",
   "language": "python",
   "name": "python3"
  },
  "language_info": {
   "codemirror_mode": {
    "name": "ipython",
    "version": 3
   },
   "file_extension": ".py",
   "mimetype": "text/x-python",
   "name": "python",
   "nbconvert_exporter": "python",
   "pygments_lexer": "ipython3",
   "version": "3.9.7"
  }
 },
 "nbformat": 4,
 "nbformat_minor": 5
}
